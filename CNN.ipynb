{
 "cells": [
  {
   "cell_type": "code",
   "execution_count": 2,
   "id": "a8d44e38",
   "metadata": {},
   "outputs": [],
   "source": [
    "import tensorflow as tf\n",
    "from tensorflow.keras import datasets, layers, models, utils\n",
    "import matplotlib.pyplot as plt\n",
    "import numpy as np\n",
    "from keras.preprocessing.image import ImageDataGenerator\n",
    "from tensorflow.keras.applications import EfficientNetB2, Xception, ResNet50, ResNet101, InceptionV3, VGG16,ResNet50V2\n",
    "from keras.preprocessing.image import load_img, img_to_array\n",
    "import os\n",
    "import sklearn\n",
    "from sklearn.metrics import classification_report\n",
    "import tensorflow_addons as tfa\n",
    "import seaborn as sns\n",
    "from collections import Counter\n",
    "import operator"
   ]
  },
  {
   "cell_type": "code",
   "execution_count": 3,
   "id": "6fae4e07",
   "metadata": {},
   "outputs": [
    {
     "name": "stdout",
     "output_type": "stream",
     "text": [
      "Found 5755 images belonging to 40 classes.\n",
      "Found 469 images belonging to 40 classes.\n",
      "Counter({17: 371, 16: 317, 3: 313, 24: 298, 6: 286, 14: 268, 35: 254, 23: 253, 27: 250, 9: 227, 30: 226, 22: 177, 34: 174, 37: 169, 12: 159, 5: 151, 18: 148, 32: 135, 11: 133, 1: 131, 10: 98, 33: 95, 4: 94, 36: 92, 39: 87, 0: 86, 31: 83, 38: 82, 25: 71, 20: 64, 28: 64, 19: 61, 8: 49, 13: 47, 7: 46, 15: 46, 29: 41, 21: 40, 26: 35, 2: 34})\n"
     ]
    }
   ],
   "source": [
    "IMG_SIZE = 240\n",
    "IMG_SIZE_2 = 330\n",
    "TARGET_SIZE = (IMG_SIZE, IMG_SIZE_2)\n",
    "IMG_SHAPE = (IMG_SIZE, IMG_SIZE_2, 3)\n",
    "NUM_CLASSES = 40\n",
    "\n",
    "datagen = ImageDataGenerator(\n",
    "    rescale = 1./255,\n",
    "    shear_range = 0.2,\n",
    "    zoom_range = 0.2,\n",
    "    featurewise_center=True,\n",
    "    horizontal_flip = False,\n",
    "    rotation_range=20,\n",
    "    width_shift_range=0.2,\n",
    "    height_shift_range=0.2,\n",
    "    validation_split=0.2\n",
    ")\n",
    "batch_size = 30\n",
    "# load and iterate training dataset\n",
    "train_it = datagen.flow_from_directory('C:/Users/avuat/Python Projects/Motorcycle Classifier/images/TrainValidationWithSplitModelRE/train/', class_mode='categorical', batch_size=batch_size, target_size=TARGET_SIZE)\n",
    "val_it = datagen.flow_from_directory('C:/Users/avuat/Python Projects/Motorcycle Classifier/images/TrainValidationWithSplitModelRE/validation/', class_mode='categorical', batch_size=batch_size, target_size=TARGET_SIZE)\n",
    "print(Counter(train_it.labels))"
   ]
  },
  {
   "cell_type": "code",
   "execution_count": 4,
   "id": "0bc85594",
   "metadata": {},
   "outputs": [],
   "source": [
    "inputs = tf.keras.Input(shape = IMG_SHAPE)\n",
    "base_model = ResNet50V2(weights='imagenet', include_top=True, input_tensor=inputs)\n",
    "\n",
    "last_layer = base_model.layers[-2].output \n",
    "out = tf.keras.layers.Dense(units = NUM_CLASSES, activation = 'softmax', name = 'ouput')(last_layer)\n",
    "new_base_model = tf.keras.Model(inputs = inputs, outputs = out)\n",
    "\n",
    "for layer in new_base_model.layers[:-20]:\n",
    "    layer.trainable = False\n",
    "\n",
    "new_base_model.compile(optimizer=tf.keras.optimizers.Adam(),\n",
    "              loss=\"categorical_crossentropy\",\n",
    "              metrics=['accuracy'])\n",
    "              \n",
    "callback = tf.keras.callbacks.EarlyStopping(monitor='loss',mode = 'min')       "
   ]
  },
  {
   "cell_type": "code",
   "execution_count": null,
   "id": "c821e20b",
   "metadata": {},
   "outputs": [
    {
     "name": "stderr",
     "output_type": "stream",
     "text": [
      "C:\\Users\\avuat\\AppData\\Local\\Programs\\Python\\Python39\\lib\\site-packages\\keras_preprocessing\\image\\image_data_generator.py:720: UserWarning: This ImageDataGenerator specifies `featurewise_center`, but it hasn't been fit on any training data. Fit it first by calling `.fit(numpy_data)`.\n",
      "  warnings.warn('This ImageDataGenerator specifies '\n"
     ]
    },
    {
     "name": "stdout",
     "output_type": "stream",
     "text": [
      "Epoch 1/20\n",
      "142/191 [=====================>........] - ETA: 2:21 - loss: 1.5891 - accuracy: 0.5351"
     ]
    }
   ],
   "source": [
    "history = new_base_model.fit(train_it, steps_per_epoch=int(5755/batch_size),validation_data=val_it, validation_steps=int(469/batch_size), epochs=20)"
   ]
  },
  {
   "cell_type": "code",
   "execution_count": null,
   "id": "f212b351",
   "metadata": {},
   "outputs": [],
   "source": [
    "print(history.history.keys())\n",
    "# summarize history for accuracy\n",
    "plt.plot(history.history['accuracy'])\n",
    "plt.plot(history.history['val_accuracy'])\n",
    "plt.title('model accuracy')\n",
    "plt.ylabel('accuracy')\n",
    "plt.xlabel('epoch')\n",
    "plt.legend(['train', 'test'], loc='upper left')\n",
    "plt.show()"
   ]
  },
  {
   "cell_type": "code",
   "execution_count": null,
   "id": "e8a08593",
   "metadata": {},
   "outputs": [],
   "source": [
    "\n",
    "# summarize history for loss\n",
    "plt.plot(history.history['loss'])\n",
    "plt.plot(history.history['val_loss'])\n",
    "plt.title('model loss')\n",
    "plt.ylabel('loss')\n",
    "plt.xlabel('epoch')\n",
    "plt.legend(['train', 'test'], loc='upper left')\n",
    "plt.show()"
   ]
  },
  {
   "cell_type": "code",
   "execution_count": null,
   "id": "519040c4",
   "metadata": {},
   "outputs": [],
   "source": [
    "new_base_model.compile(metrics=[\n",
    "                       \"accuracy\",\n",
    "                       tf.keras.metrics.AUC(num_thresholds=10000),\n",
    "                       tf.keras.metrics.Precision(thresholds=0.5),\n",
    "                       tf.keras.metrics.Recall(thresholds=0.5),\n",
    "                       tfa.metrics.F1Score(num_classes=NUM_CLASSES, threshold=0.5)\n",
    "                       ])\n",
    "\n",
    "results = new_base_model.evaluate(val_it,return_dict=True)"
   ]
  },
  {
   "cell_type": "code",
   "execution_count": null,
   "id": "28902acd",
   "metadata": {},
   "outputs": [],
   "source": [
    "for i, value in enumerate(results[\"f1_score\"]):\n",
    "    print(list(val_it.class_indices)[i], \" : \", round(value*100, 2), \"%\")"
   ]
  },
  {
   "cell_type": "code",
   "execution_count": null,
   "id": "d70fd4a1",
   "metadata": {
    "scrolled": true
   },
   "outputs": [],
   "source": [
    "y_val = []\n",
    "y_pred = []\n",
    "for i in range(0,int(469/batch_size)):\n",
    "    y_val += val_it[i][1].argmax(axis=1).tolist()\n",
    "    y_pred += new_base_model.predict(val_it[i][0].reshape(batch_size, TARGET_SIZE[0], TARGET_SIZE[1], 3)).argmax(axis=1).tolist()\n",
    "\n",
    "print(len(y_val))\n",
    "print(len(y_pred))"
   ]
  },
  {
   "cell_type": "code",
   "execution_count": null,
   "id": "d59ca0c1",
   "metadata": {},
   "outputs": [],
   "source": [
    "print(\"Accuracy : \",round(sum(map(operator.eq, y_pred, y_val)) / len(y_pred)*100, 4), \"%\")\n",
    "matrix = sklearn.metrics.confusion_matrix(y_pred, y_val)\n",
    "plt.subplots(figsize=(20,15))\n",
    "sns.heatmap(matrix, annot=True,xticklabels=train_it.class_indices, yticklabels=train_it.class_indices)"
   ]
  },
  {
   "cell_type": "code",
   "execution_count": null,
   "id": "0821bb86",
   "metadata": {},
   "outputs": [],
   "source": [
    "def load_image(filename):\n",
    "    # load the image\n",
    "    img = load_img(filename, target_size=TARGET_SIZE)\n",
    "    # convert to array\n",
    "    img = img_to_array(img)\n",
    "    # reshape into a single sample with 3 channels\n",
    "    img = img.reshape(1, TARGET_SIZE[0], TARGET_SIZE[1], 3)\n",
    "    # prepare pixel data\n",
    "    img = img.astype('float32')\n",
    "    img = img / 255.0\n",
    "    return img \n",
    "\n"
   ]
  },
  {
   "cell_type": "code",
   "execution_count": null,
   "id": "dcfa38c3",
   "metadata": {
    "scrolled": false
   },
   "outputs": [],
   "source": [
    "directory = 'C:/Users/avuat/Python Projects/Motorcycle Classifier/images/TrainValidationWithSplitModelRE/test/'\n",
    "f, axarr = plt.subplots(10,2,figsize=(50,60))\n",
    "f.tight_layout()\n",
    "i = 0\n",
    "for filename in os.listdir(directory):\n",
    "    if int(i/2) >= 20 :\n",
    "        break\n",
    "    img= load_image(os.path.join(directory, filename) )\n",
    "    result = new_base_model.predict(img)\n",
    "    #print(\"Predicted : \"+list(train_it.class_indices)[result.argmax(axis=-1)[0]])\n",
    "    axarr[int(i/4), i%4].imshow(img[0])\n",
    "    axarr[int(i/4), i%4].title.set_text(list(train_it.class_indices)[result.argmax(axis=-1)[0]])\n",
    "    i += 1\n",
    "    #axarr[0,0].show()\n",
    "    \n"
   ]
  },
  {
   "cell_type": "code",
   "execution_count": null,
   "id": "5b4f602a",
   "metadata": {},
   "outputs": [],
   "source": [
    "train_it.class_indices"
   ]
  },
  {
   "cell_type": "code",
   "execution_count": null,
   "id": "0eeb11a8",
   "metadata": {},
   "outputs": [],
   "source": []
  }
 ],
 "metadata": {
  "kernelspec": {
   "display_name": "Python 3 (ipykernel)",
   "language": "python",
   "name": "python3"
  },
  "language_info": {
   "codemirror_mode": {
    "name": "ipython",
    "version": 3
   },
   "file_extension": ".py",
   "mimetype": "text/x-python",
   "name": "python",
   "nbconvert_exporter": "python",
   "pygments_lexer": "ipython3",
   "version": "3.9.7"
  }
 },
 "nbformat": 4,
 "nbformat_minor": 5
}
